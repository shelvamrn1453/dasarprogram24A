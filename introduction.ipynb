{
 "cells": [
  {
   "cell_type": "markdown",
   "id": "9f8a8afe-05a3-4ae2-a091-b0e0061bc97c",
   "metadata": {},
   "source": [
    "<img src=\"https://i.pinimg.com/736x/84/54/f1/8454f12b6d2e69fcf172ea64b78b3a56.jpg\" width=\"400\"></center><br>\n",
    "Tutorial Jupiter Notebook<br>\n",
    "Tempat menulis kode disebut seagai <b>cell</b><br>\n",
    "<ol>\n",
    "    <li>Code - Y</li>\n",
    "    <li>Markdown - M</li>\n",
    "</ol>\n",
    "<hr>\n",
    "    Cara menjalankan cell<br>\n",
    "    <table>\n",
    "        <tr>\n",
    "            <td>Command perintah</td>\n",
    "            <td>keterangan</td>\n",
    "        </tr>\n",
    "        <tr>\n",
    "            <td>shift + enter</td>\n",
    "            <td>running dan fokus di cell aktif</td>\n",
    "        </tr>\n",
    "        <tr>\n",
    "            <td>shift +enter</td>\n",
    "            <td>running dan fokus di cell berikutnya</td>\n",
    "        </tr>\n",
    "    </table>\n",
    "</hr>"
   ]
  },
  {
   "cell_type": "markdown",
   "id": "5bd451ae-0926-42ab-acce-208605f2343d",
   "metadata": {},
   "source": [
    "Menambahkan Cell ada 2 cara\n",
    "<ul>\n",
    "    <li>Tekan A -> Above</li>\n",
    "    <li>Tekan B -> Bellow</li>\n",
    "</ul> \n",
    "Cara membuat outpus di python adalah <br>\n",
    "```print (teks yang akan di print)```"
   ]
  },
  {
   "cell_type": "code",
   "execution_count": 23,
   "id": "5c32f65d-dbeb-4d5b-95fb-c787987955d2",
   "metadata": {},
   "outputs": [
    {
     "name": "stdout",
     "output_type": "stream",
     "text": [
      "selamat belajar python\n",
      "selamat belajar variabel\n"
     ]
    }
   ],
   "source": [
    "#cetak tulisan selamat belajar python\n",
    "print (\"selamat belajar python\")\n",
    "data = \"selamat belajar variabel\"\n",
    "print(data)"
   ]
  },
  {
   "cell_type": "code",
   "execution_count": null,
   "id": "7fbba704-506d-46b9-a7ea-7a281f36e17a",
   "metadata": {},
   "outputs": [],
   "source": []
  },
  {
   "cell_type": "code",
   "execution_count": 34,
   "id": "3b25cde3-1e8a-4050-8dcc-5dee235f584a",
   "metadata": {},
   "outputs": [
    {
     "name": "stdout",
     "output_type": "stream",
     "text": [
      "selamat belajar variabel\n"
     ]
    },
    {
     "data": {
      "text/plain": [
       "15"
      ]
     },
     "execution_count": 34,
     "metadata": {},
     "output_type": "execute_result"
    }
   ],
   "source": [
    "print(data)\n",
    "data\n",
    "numb1 = 6\n",
    "numb2 = 9\n",
    "numb1 + numb2"
   ]
  }
 ],
 "metadata": {
  "kernelspec": {
   "display_name": "Python [conda env:base] *",
   "language": "python",
   "name": "conda-base-py"
  },
  "language_info": {
   "codemirror_mode": {
    "name": "ipython",
    "version": 3
   },
   "file_extension": ".py",
   "mimetype": "text/x-python",
   "name": "python",
   "nbconvert_exporter": "python",
   "pygments_lexer": "ipython3",
   "version": "3.12.7"
  }
 },
 "nbformat": 4,
 "nbformat_minor": 5
}
