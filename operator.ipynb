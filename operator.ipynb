{
 "cells": [
  {
   "cell_type": "markdown",
   "id": "1c4a1907-7fd3-4c9a-a225-08c26c43aab4",
   "metadata": {},
   "source": [
    "<h1>Operator Aritmatika</h1>"
   ]
  },
  {
   "cell_type": "code",
   "execution_count": 25,
   "id": "4faba655-48cc-44db-b380-fccea1ed3b25",
   "metadata": {},
   "outputs": [
    {
     "name": "stdin",
     "output_type": "stream",
     "text": [
      "isikan nilai X : 2\n",
      "isikan nilai Y : 3\n"
     ]
    },
    {
     "name": "stdout",
     "output_type": "stream",
     "text": [
      "penjumlahan  2 + 3 = 5\n",
      "pengurangan  2 - 3 = -1\n",
      "penkalian  2 * 3 = 6\n",
      "pembagian  2 / 3 = 0.6666666666666666\n",
      "Sisa Bagi  2 % 3 = 2\n",
      "pangkat  2 ** 3 = 8\n",
      "pembagian bulat  2 // 3 = 0\n"
     ]
    }
   ],
   "source": [
    "x = int(input (\"isikan nilai X :\"))\n",
    "y = int(input(\"isikan nilai Y :\"))\n",
    "\n",
    "hasilTambah = x + y\n",
    "hasilKurang = x - y\n",
    "hasilKali = x * y\n",
    "hasilBagi = x / y\n",
    "hasilModulus = x % y\n",
    "hasilPangkat = x ** y\n",
    "hasilBagiBulat = x // y\n",
    "\n",
    "print(\"penjumlahan \", x, \"+\", y, \"=\", hasilTambah) \n",
    "print(\"pengurangan \", x, \"-\", y, \"=\", hasilKurang)\n",
    "print(\"penkalian \", x, \"*\", y, \"=\", hasilKali)\n",
    "print(\"pembagian \", x, \"/\", y, \"=\", hasilBagi)\n",
    "print (\"Sisa Bagi \", x, \"%\", y, \"=\", hasilModulus)\n",
    "print(\"pangkat \", x, \"**\", y, \"=\", hasilPangkat)\n",
    "print(\"pembagian bulat \", x, \"//\", y, \"=\", hasilBagiBulat)\n"
   ]
  },
  {
   "cell_type": "markdown",
   "id": "9b71c090-385b-47be-b49c-65db4142cd2d",
   "metadata": {},
   "source": [
    "<h1>operator penugasan</h1>"
   ]
  },
  {
   "cell_type": "code",
   "execution_count": 27,
   "id": "8f086d30-e854-432a-92f2-70566fc3b51f",
   "metadata": {},
   "outputs": [
    {
     "name": "stdin",
     "output_type": "stream",
     "text": [
      "isikan nilai : 10\n"
     ]
    },
    {
     "name": "stdout",
     "output_type": "stream",
     "text": [
      "nilai awal dari <nilai> : 10\n",
      "nilai  setelah ditambah 3 : 13\n",
      "nilai setelah dikurang 5 : 8\n",
      "nilai setelah dikalikan 10 : 80\n",
      "nilai setelah dibagi 2 : 40.0\n"
     ]
    }
   ],
   "source": [
    "nilai = int(input(\"isikan nilai :\"))\n",
    "print(\"nilai awal dari <nilai> :\",nilai)\n",
    "nilai += 3\n",
    "print(\"nilai  setelah ditambah 3 :\",nilai)\n",
    "nilai-= 5\n",
    "print(\"nilai setelah dikurang 5 :\",nilai)\n",
    "nilai *= 10\n",
    "print(\"nilai setelah dikalikan 10 :\",nilai)\n",
    "nilai /= 2\n",
    "print(\"nilai setelah dibagi 2 :\",nilai)\n"
   ]
  },
  {
   "cell_type": "markdown",
   "id": "f271e63b-62d6-47a5-9d5f-b31e4c54ea5d",
   "metadata": {},
   "source": [
    "<h1>operator perbandingan</h1>"
   ]
  },
  {
   "cell_type": "code",
   "execution_count": 43,
   "id": "84f06c8c-4ca3-4d3e-a4c4-0ab0e2d29d46",
   "metadata": {},
   "outputs": [
    {
     "name": "stdin",
     "output_type": "stream",
     "text": [
      "isikan nilai 1 : 6\n",
      "isikan nilai 2 : 6\n"
     ]
    },
    {
     "name": "stdout",
     "output_type": "stream",
     "text": [
      "apakah  6 = 6 ? True\n",
      "apakah  6 != 6 ? False\n",
      "apakah  6 > 6 ? False\n",
      "apakah  6 >= 6 ? True\n",
      "apakah  6 < 6 ? False\n",
      "apakah  6 <= 6 ? True\n"
     ]
    }
   ],
   "source": [
    "val1 = int(input('isikan nilai 1 :'))\n",
    "val2 = int(input(\"isikan nilai 2 :\"))\n",
    "\n",
    "print(\"apakah \", val1,\"=\", val2, \"?\", val1==val2)\n",
    "print(\"apakah \", val1,\"!=\", val2, \"?\", val1!=val2)\n",
    "print(\"apakah \", val1,\">\", val2, \"?\", val1>val2)\n",
    "print(\"apakah \", val1,\">=\", val2, \"?\", val1>=val2)\n",
    "print(\"apakah \", val1,\"<\", val2, \"?\", val1<val2)\n",
    "print(\"apakah \", val1,\"<=\", val2, \"?\", val1<=val2)\n"
   ]
  },
  {
   "cell_type": "markdown",
   "id": "568dd55b-a43c-4b91-9150-97a56e4105c3",
   "metadata": {},
   "source": [
    "<h1>operator logika</h1>"
   ]
  },
  {
   "cell_type": "code",
   "execution_count": 54,
   "id": "89e48f1e-81e1-4dd5-b865-86adf11277af",
   "metadata": {},
   "outputs": [
    {
     "name": "stdin",
     "output_type": "stream",
     "text": [
      "isikan nilai a : 4\n",
      "isikan nilai b : 3\n",
      "isikan nilai c : 6\n",
      "isikan nilai d : 7\n"
     ]
    },
    {
     "name": "stdout",
     "output_type": "stream",
     "text": [
      "nilai a: 4\n",
      "nilai a: 3\n",
      "nilai a: 6\n",
      "nilai a: 7\n",
      "apakah a > b dan c < d? True\n",
      "apakah a > b dan c < d? True\n",
      "apakah a > b dan c < d? False\n"
     ]
    }
   ],
   "source": [
    "a = int(input('isikan nilai a :'))\n",
    "b = int(input('isikan nilai b :'))\n",
    "c = int(input('isikan nilai c :'))\n",
    "d = int(input('isikan nilai d :'))\n",
    "\n",
    "print(\"nilai a:\", a)\n",
    "print(\"nilai a:\", b)\n",
    "print(\"nilai a:\", c)\n",
    "print(\"nilai a:\", d)\n",
    "\n",
    "print(\"apakah a > b dan c < d?\", a > b  and c < d)\n",
    "print(\"apakah a > b dan c < d?\", a > b  or c < d)\n",
    "print(\"apakah a > b dan c < d?\", not(a > b  and c < d))"
   ]
  },
  {
   "cell_type": "markdown",
   "id": "530f1868-def0-47f4-b69c-454fc7608ed8",
   "metadata": {},
   "source": [
    "<h1>operator identitas</h1>"
   ]
  },
  {
   "cell_type": "code",
   "execution_count": 65,
   "id": "cf218727-8ecc-441b-bf9d-1c2a484b3819",
   "metadata": {},
   "outputs": [
    {
     "name": "stdout",
     "output_type": "stream",
     "text": [
      "memori address dari num1 2259852765936\n",
      "memori address dari num2 140716856388312\n",
      "memori address dari num3 140716856388312\n",
      "apakah num1 adalah num2 False\n",
      "apakah num2 adalah num3 True\n",
      "apakah num2 bukan num3 False\n"
     ]
    }
   ],
   "source": [
    "num1 = \"10\"\n",
    "num2 = 10\n",
    "num3 = num2\n",
    "\n",
    "print(\"memori address dari num1\", id(num1))\n",
    "print(\"memori address dari num2\", id(num2))\n",
    "print(\"memori address dari num3\", id(num3))\n",
    "\n",
    "print(\"apakah num1 adalah num2\", num1 is num2)\n",
    "print(\"apakah num2 adalah num3\", num2 is num3)\n",
    "print(\"apakah num2 bukan num3\", num2 is not num3)"
   ]
  },
  {
   "cell_type": "markdown",
   "id": "64310109-a325-4b59-8bfa-fc5c5ac06be5",
   "metadata": {},
   "source": [
    "<h1>operator keanggotaan (membership)</h1>"
   ]
  },
  {
   "cell_type": "code",
   "execution_count": 77,
   "id": "5d75ee12-fa27-49b4-99b2-c8a07c7fc5f8",
   "metadata": {},
   "outputs": [
    {
     "name": "stdin",
     "output_type": "stream",
     "text": [
      "isikan nama yang dicari : caca\n"
     ]
    },
    {
     "name": "stdout",
     "output_type": "stream",
     "text": [
      "False\n",
      "False\n",
      "True\n",
      "True\n"
     ]
    }
   ],
   "source": [
    "nama = input(\"isikan nama yang dicari :\")\n",
    "listNama = [\"Andi\", \"Budi\", \"Caca\", \"Dudi\", \"Erfan\"]\n",
    "print(nama is listNama)\n",
    "print(nama is listNama[0])\n",
    "print(nama not in listNama)\n",
    "print(nama not in listNama[0])\n"
   ]
  },
  {
   "cell_type": "markdown",
   "id": "57c7071b-9c9f-41ea-9916-e80cd8f1acfb",
   "metadata": {},
   "source": [
    "<h1>operator bitwise</h1>"
   ]
  },
  {
   "cell_type": "code",
   "execution_count": 104,
   "id": "31a5e201-93a9-47c1-a044-055562b06d61",
   "metadata": {},
   "outputs": [
    {
     "name": "stdin",
     "output_type": "stream",
     "text": [
      "isikan bilangan 1 : 3\n",
      "isikan bilangan 2 : 4\n"
     ]
    },
    {
     "name": "stdout",
     "output_type": "stream",
     "text": [
      "biner dari  3 : 0b11\n",
      "biner dari  4 : 0b100\n",
      "0b11\n",
      "0b100\n",
      "------------------ &\n",
      "0b0\n",
      "hasil desimalnya adalah : 0\n",
      "0b11\n",
      "0b100\n",
      "------------------ |\n",
      "0b111\n",
      "hasil desimalnya adalah : 7\n",
      "0b11\n",
      "0b100\n",
      "------------------ ^\n",
      "0b111\n",
      "hasil desimalnya adalah : 7\n",
      "0b11 digeser ke kiri sebanyak 4 bit\n",
      "hasil nyaadalah : 0b110000\n",
      "nilai desimalnya adalah : 48\n",
      "0b11 digeser ke kanan sebanyak 4 bit\n",
      "hasilnya adalah : 0b0\n",
      "nilai desimalnya adalah : 0\n"
     ]
    }
   ],
   "source": [
    "bil1 = int(input('isikan bilangan 1 :'))\n",
    "bil2 = int(input('isikan bilangan 2 :'))\n",
    "\n",
    "print('biner dari ', bil1, ':', bin(bil1))\n",
    "print(\"biner dari \", bil2, \":\", bin(bil2))\n",
    "\n",
    "#bitwise &\n",
    "bitwiseAnd = bil1 & bil2\n",
    "print(bin(bil1))\n",
    "print(bin(bil2))\n",
    "print('------------------ &')\n",
    "print(bin(bitwiseAnd))\n",
    "print('hasil desimalnya adalah :', bitwiseAnd)\n",
    "\n",
    "#bitwise or\n",
    "bitwiseOr = bil1 | bil2\n",
    "print(bin(bil1))\n",
    "print(bin(bil2))\n",
    "print('------------------ |')\n",
    "print(bin(bitwiseOr))\n",
    "print('hasil desimalnya adalah :', bitwiseOr)\n",
    "\n",
    "#botwise XOR\n",
    "bitwiseXor = bil1 ^ bil2\n",
    "print(bin(bil1))\n",
    "print(bin(bil2))\n",
    "print('------------------ ^')\n",
    "print(bin(bitwiseXor))\n",
    "print('hasil desimalnya adalah :', bitwiseXor)\n",
    "\n",
    "#botwise << shift left\n",
    "bitwiseSL = bil1 << bil2\n",
    "print(bin(bil1),'digeser ke kiri sebanyak', bil2,'bit')\n",
    "print('hasil nyaadalah :', bin(bitwiseSL))\n",
    "print('nilai desimalnya adalah :', bitwiseSL)\n",
    "\n",
    "#botwise >> shift right\n",
    "bitwiseSR = bil1 >> bil2\n",
    "print(bin(bil1),'digeser ke kanan sebanyak', bil2,'bit')\n",
    "print('hasilnya adalah :', bin(bitwiseSR))\n",
    "print('nilai desimalnya adalah :', bitwiseSR)\n",
    "\n"
   ]
  },
  {
   "cell_type": "markdown",
   "id": "0659d7c2-fb83-4dd7-9b4f-e4bbeb51e518",
   "metadata": {},
   "source": [
    "<H1>operator ternary</H1>"
   ]
  },
  {
   "cell_type": "code",
   "execution_count": 111,
   "id": "90ebbd6b-9a43-45d9-97e6-7f2686a5a4d5",
   "metadata": {},
   "outputs": [
    {
     "name": "stdin",
     "output_type": "stream",
     "text": [
      "insert your number : 6\n"
     ]
    },
    {
     "name": "stdout",
     "output_type": "stream",
     "text": [
      "bilang genap \n"
     ]
    }
   ],
   "source": [
    "number = int(input('insert your number :'))\n",
    "oddEven = \"bilang genap \" if number % 2==0 else \"bilangn ganjil\"\n",
    "\n",
    "print(oddEven)"
   ]
  },
  {
   "cell_type": "markdown",
   "id": "74331a76-661d-4fbe-a4f5-749af9ae39ad",
   "metadata": {},
   "source": [
    "<h1>latihan</h1>"
   ]
  },
  {
   "cell_type": "code",
   "execution_count": 135,
   "id": "9c7a6004-ba50-465d-968f-d183d69e063b",
   "metadata": {},
   "outputs": [
    {
     "name": "stdout",
     "output_type": "stream",
     "text": [
      "list belanja :\n",
      "1. pisang goreng : 13.000\n",
      "2. kolak : 5.000\n",
      "3. nasi padang : 20.000\n",
      "4. es buah : 10.000\n",
      "---------------------\n"
     ]
    },
    {
     "name": "stdin",
     "output_type": "stream",
     "text": [
      "jumlah pisang goreng : 2\n",
      "jumlah kolak : 2\n",
      "jumlah nasi padang : 2\n",
      "jumlah es buah : 2\n"
     ]
    },
    {
     "name": "stdout",
     "output_type": "stream",
     "text": [
      "----------------------\n",
      "pisangGoreng : 2 = 26000\n",
      "kolak : 2 = 10000\n",
      "nasPad : 2 = 40000\n",
      "es buah : 2 = 20000\n",
      "----------------------\n",
      "total belanja : 96000\n",
      "diskon : 5 %\n",
      "total bayar : 91200.0\n"
     ]
    }
   ],
   "source": [
    "print('list belanja :')\n",
    "print('1. pisang goreng : 13.000')\n",
    "print('2. kolak : 5.000')\n",
    "print('3. nasi padang : 20.000')\n",
    "print('4. es buah : 10.000')\n",
    "print('---------------------')\n",
    "pisangGoreng = int(input('jumlah pisang goreng :'))\n",
    "kolak = int(input('jumlah kolak :'))\n",
    "nasPad = int(input('jumlah nasi padang :'))\n",
    "esBuah = int(input('jumlah es buah :'))\n",
    "print('----------------------')\n",
    "print(\"pisangGoreng :\", pisangGoreng, '=', pisangGoreng * 13000)\n",
    "print(\"kolak :\", kolak, '=', kolak * 5000)\n",
    "print(\"nasPad :\", nasPad, '=', nasPad * 20000)\n",
    "print(\"es buah :\", esBuah, '=', esBuah * 10000)\n",
    "print('----------------------')\n",
    "totalBelanja = (pisangGoreng * 13000) + (kolak * 5000) + (nasPad * 20000) + (esBuah * 10000)\n",
    "print(\"total belanja :\", totalBelanja)\n",
    "\n",
    "diskon = 5 if totalBelanja > 25000 else 0\n",
    "totalBayar = totalBelanja - (totalBelanja * (diskon/100))\n",
    "print(\"diskon :\", diskon, \"%\")\n",
    "print('total bayar :', totalBayar)"
   ]
  }
 ],
 "metadata": {
  "kernelspec": {
   "display_name": "Python [conda env:base] *",
   "language": "python",
   "name": "conda-base-py"
  },
  "language_info": {
   "codemirror_mode": {
    "name": "ipython",
    "version": 3
   },
   "file_extension": ".py",
   "mimetype": "text/x-python",
   "name": "python",
   "nbconvert_exporter": "python",
   "pygments_lexer": "ipython3",
   "version": "3.12.7"
  }
 },
 "nbformat": 4,
 "nbformat_minor": 5
}
