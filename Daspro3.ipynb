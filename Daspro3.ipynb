{
 "cells": [
  {
   "cell_type": "code",
   "execution_count": 5,
   "id": "5bdadc64-2b8e-4dad-a89a-0a0ccf8950ca",
   "metadata": {},
   "outputs": [
    {
     "name": "stdout",
     "output_type": "stream",
     "text": [
      "Nama : Dedi\n",
      "Umur : 20\n",
      "Alamat : jl. Cibolang\n",
      "Nilai pemrograman : 80.5\n",
      "Status Menikah : False\n"
     ]
    }
   ],
   "source": [
    "name = \"Dedi\"\n",
    "age = 20\n",
    "address,province = \"jl. Cibolang\",\"7413412\"\n",
    "scorePython = 80.5\n",
    "isMarried = False\n",
    "\n",
    "print(\"Nama :\",name)\n",
    "print(\"Umur :\",age)\n",
    "print(\"Alamat :\",address)\n",
    "print(\"Nilai pemrograman :\",scorePython)\n",
    "print(\"Status Menikah :\",isMarried)"
   ]
  },
  {
   "cell_type": "code",
   "execution_count": 7,
   "id": "af16b78b-63e6-4e06-a31f-3c1699000803",
   "metadata": {},
   "outputs": [
    {
     "name": "stdout",
     "output_type": "stream",
     "text": [
      "Tipe Data <name> <class 'str'>\n",
      "Tipe Data <age> <class 'int'>\n",
      "Tipe Data <address> <class 'str'>\n",
      "Tipe Data <province> <class 'str'>\n",
      "Tipe Data <scorePython> <class 'float'>\n",
      "Tipe Data <isMarried> <class 'bool'>\n"
     ]
    }
   ],
   "source": [
    "print(\"Tipe Data <name>\",type(name))\n",
    "print(\"Tipe Data <age>\",type(age))\n",
    "print(\"Tipe Data <address>\",type(address))\n",
    "print(\"Tipe Data <province>\",type(province))\n",
    "print(\"Tipe Data <scorePython>\",type(scorePython))\n",
    "print(\"Tipe Data <isMarried>\",type(isMarried))\n"
   ]
  },
  {
   "cell_type": "code",
   "execution_count": 39,
   "id": "9c28e090-fac9-4b62-b2f8-acc4cd4fbde8",
   "metadata": {},
   "outputs": [
    {
     "name": "stdout",
     "output_type": "stream",
     "text": [
      "7413412-7413412.0-True\n",
      "20-20.0-True\n",
      "80.5-80-True\n",
      "0-0.0-False\n"
     ]
    }
   ],
   "source": [
    "#Casting atau konversi Tipe Data\n",
    "#Konversi dari String ke (int, float, bool)\n",
    "strToInt = int(province)\n",
    "strToFloat = float(province)\n",
    "strToBool = bool(province)\n",
    "print(strToInt, strToFloat, strToBool, sep=\"-\")\n",
    "\n",
    "#Konversi dari Int ke (String, Float, bool)\n",
    "intToStr = str(age)\n",
    "intToFloat = float(age)\n",
    "intToBool = bool(age)\n",
    "print(intToStr, intToFloat, intToBool, sep=\"-\")\n",
    "\n",
    "\n",
    "#Konversi dari Float ke (str, int, bool)\n",
    "floatToStr = str(scorePython)\n",
    "floatToInt = int(scorePython)\n",
    "floatToBool = bool(scorePython)\n",
    "print(floatToStr, floatToInt, floatToBool, sep=\"-\")\n",
    "\n",
    "#Kpnversi dari bool ke (str, int, float)\n",
    "boolToInt = int(isMarried)\n",
    "boolToFloat = float(isMarried)\n",
    "boolToStr = str(isMarried)\n",
    "print(boolToInt, boolToFloat, boolToStr, sep=\"-\")\n"
   ]
  },
  {
   "cell_type": "code",
   "execution_count": 47,
   "id": "18d1b523-7d17-4535-9ea6-2f941ed9daab",
   "metadata": {},
   "outputs": [
    {
     "name": "stdout",
     "output_type": "stream",
     "text": [
      "B\n",
      "g\n"
     ]
    }
   ],
   "source": [
    "city = \"Bandung\"\n",
    "lenCity = len(city)\n",
    "print(city[0])\n",
    "print(city [lenCity-1])"
   ]
  },
  {
   "cell_type": "code",
   "execution_count": 57,
   "id": "8637c2af-f002-4842-859e-a3cece5a8b82",
   "metadata": {},
   "outputs": [
    {
     "name": "stdout",
     "output_type": "stream",
     "text": [
      "Nilai Desimal : 200\n",
      "Nilai Hexa 0xff : 255\n",
      "Nilai Biner 0b1010 : 10\n",
      "Nilai octal 0o377 : 255\n",
      "=====\n",
      "Nilai Biner dari : 200 0b11001000\n",
      "Nilai Octal dari : 200 0o310\n",
      "Nilai Hexa dari : 200 0xc8\n"
     ]
    }
   ],
   "source": [
    "desimal = 200\n",
    "hexa = 0xff\n",
    "biner = 0b1010\n",
    "octal = 0o377\n",
    "\n",
    "print(\"Nilai Desimal :\", desimal)\n",
    "print(\"Nilai Hexa 0xff :\", hexa)\n",
    "print(\"Nilai Biner 0b1010 :\", biner)\n",
    "print(\"Nilai octal 0o377 :\", octal)\n",
    "print(\"=====\")\n",
    "print(\"Nilai Biner dari :\", desimal, bin(desimal))\n",
    "print(\"Nilai Octal dari :\", desimal, oct(desimal))\n",
    "print(\"Nilai Hexa dari :\", desimal, hex(desimal))\n"
   ]
  },
  {
   "cell_type": "code",
   "execution_count": 78,
   "id": "a96b0917-9a5a-4ce2-b508-a62d5e7917bb",
   "metadata": {},
   "outputs": [
    {
     "name": "stdout",
     "output_type": "stream",
     "text": [
      "['Sukabumi', 'Bandung', 'Bogor', 'Jakarta']\n",
      "Sukabumi\n",
      "Jakarta\n",
      "['Sukabumi', 'Medan', 'Bogor', 'Jakarta']\n",
      "J\n"
     ]
    }
   ],
   "source": [
    "cities = [\"Sukabumi\",\"Bandung\",\"Bogor\",\"Jakarta\"] \n",
    "print(cities) \n",
    "print(cities [0]) \n",
    "print(cities [len(cities)-1]) \n",
    "cities[1] = \"Medan\" \n",
    "print(cities) \n",
    "print(cities [len(cities)-1][0])"
   ]
  },
  {
   "cell_type": "code",
   "execution_count": 81,
   "id": "f42d39d4-821e-47fa-94c1-25482b2542a5",
   "metadata": {},
   "outputs": [
    {
     "name": "stdout",
     "output_type": "stream",
     "text": [
      "('Andi', 'Budi', 'Caca')\n"
     ]
    }
   ],
   "source": [
    "#Tuple (tidak bisa mengganti elemen yang ada didalamnya)\n",
    "names = (\"Andi\",\"Budi\",\"Caca\")\n",
    "print(names)\n",
    "\n",
    "#contoh\n",
    "#names [0] = \"Rudi\" akan meyenbabkan error, karena tuple adalah immutable"
   ]
  },
  {
   "cell_type": "code",
   "execution_count": 101,
   "id": "802a6d4d-94f6-41d1-9a3a-e36ba03993a6",
   "metadata": {},
   "outputs": [
    {
     "name": "stdout",
     "output_type": "stream",
     "text": [
      "{'name': 'Dedi', 'address': {'street': 'Cisaat', 'number': 21, 'province': 'west java'}, 'age': 23, 'isMarried': True}\n",
      "west java\n"
     ]
    }
   ],
   "source": [
    "#Dictionery\n",
    "studentData = {\n",
    "    \"name\" : \"Dedi\",\n",
    "    \"address\" : {\n",
    "        \"street\" : \"Cisaat\",\n",
    "        \"number\" : 21,\n",
    "        \"province\" : \"west java\"  \n",
    "    },  \n",
    "    \"age\" : 23,\n",
    "    \"isMarried\" : True\n",
    "}\n",
    "print(studentData)\n",
    "print(studentData[\"address\"][\"province\"]) #west java"
   ]
  },
  {
   "cell_type": "code",
   "execution_count": 107,
   "id": "5d247b78-6522-4a5d-86e1-e5b1d2700f13",
   "metadata": {},
   "outputs": [
    {
     "name": "stdout",
     "output_type": "stream",
     "text": [
      "{'name': 'Budi', 'address': {'street': 'Bogor', 'number': 25, 'province': 'west java'}, 'age': 25, 'isMarried': False}\n",
      "Football\n"
     ]
    }
   ],
   "source": [
    "#list of dictionary\n",
    "listStudent = [\n",
    "    {\n",
    "        \"name\" : \"Dedi\",\n",
    "        \"address\" : {\n",
    "            \"street\" : \"Cisaat\",\n",
    "            \"number\" : 21,\n",
    "            \"province\" : \"west java\"  \n",
    "    }, \n",
    "    \"hobbies\" : [\"Basket\",\"Football\"],\n",
    "    \"age\" : 23,\n",
    "    \"isMarried\" : True\n",
    "    },\n",
    "    {\n",
    "        \"name\" : \"Budi\",\n",
    "        \"address\" : {\n",
    "            \"street\" : \"Bogor\",\n",
    "            \"number\" : 25,\n",
    "            \"province\" : \"west java\"  \n",
    "    },  \n",
    "    \"age\" : 25,\n",
    "    \"isMarried\" : False\n",
    "    }\n",
    "]\n",
    "\n",
    "print(listStudent[1]) #semua data dati Budi. jika [0]-semua data dati Dedi\n",
    "print(listStudent[0][\"hobbies\"][1]) #Fotball-hobi Dedi urutan ke 2\n",
    "print(listStudent[0][\"age\"]) #23-umur Dedi"
   ]
  },
  {
   "cell_type": "code",
   "execution_count": 126,
   "id": "288d8637-99a7-4bf3-b618-09a6ed9b8c87",
   "metadata": {},
   "outputs": [
    {
     "name": "stdout",
     "output_type": "stream",
     "text": [
      "{'name': 'Dika', 'nilai': 80}\n",
      "{'Buah': 'Apel', 'harga': 10000}\n",
      "{'name': 'shell', 'age': 17}\n",
      "{'Buah': 'Mangga', 'age': 5000}\n",
      "{'name': 'Adi', 'age': 20, 'address': 'Bandung'}\n"
     ]
    }
   ],
   "source": [
    "list_tupple = [(\"name\",\"Dika\"),(\"nilai\",80)]\n",
    "dictStudent = dict(list_tupple)\n",
    "print(dictStudent)\n",
    "\n",
    "list_list = [[\"Buah\",\"Apel\"],[\"harga\", 10000]]\n",
    "dictBuah = dict(list_list)\n",
    "print(dictBuah)\n",
    "\n",
    "tuple_tuple = ((\"name\",\"shell\"),(\"age\",17))\n",
    "dictNama = dict(tuple_tuple)\n",
    "print(dictNama)\n",
    "\n",
    "tuple_list = ([\"Buah\",\"Mangga\"],[\"age\",5000])\n",
    "dictAc = dict(tuple_list)\n",
    "print(dictAc)\n",
    "\n",
    "keys = [\"name\",\"age\",\"address\"]\n",
    "values = [\"Adi\",20,\"Bandung\"]\n",
    "\n",
    "dictData = dict(zip(keys,values))\n",
    "print (dictData)"
   ]
  },
  {
   "cell_type": "code",
   "execution_count": null,
   "id": "bfa18549-23fb-4639-a4e5-4d03ed9ef7de",
   "metadata": {},
   "outputs": [],
   "source": []
  }
 ],
 "metadata": {
  "kernelspec": {
   "display_name": "Python [conda env:base] *",
   "language": "python",
   "name": "conda-base-py"
  },
  "language_info": {
   "codemirror_mode": {
    "name": "ipython",
    "version": 3
   },
   "file_extension": ".py",
   "mimetype": "text/x-python",
   "name": "python",
   "nbconvert_exporter": "python",
   "pygments_lexer": "ipython3",
   "version": "3.12.7"
  }
 },
 "nbformat": 4,
 "nbformat_minor": 5
}
